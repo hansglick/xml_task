{
 "cells": [
  {
   "cell_type": "code",
   "execution_count": 504,
   "metadata": {},
   "outputs": [],
   "source": [
    "import xml.etree.ElementTree as ET\n",
    "import numpy as np\n",
    "from xml.etree.ElementTree import Element"
   ]
  },
  {
   "cell_type": "code",
   "execution_count": 505,
   "metadata": {},
   "outputs": [],
   "source": [
    "# Parsing\n",
    "tree = ET.parse('file.xml')\n",
    "root = tree.getroot()\n",
    "pages = root[0][0]"
   ]
  },
  {
   "cell_type": "code",
   "execution_count": 443,
   "metadata": {},
   "outputs": [],
   "source": [
    "for idpage,one_page in enumerate(pages):\n",
    "    \n",
    "    # Parsing de la page\n",
    "    nodes_one_page = list(one_page)\n",
    "    tags_one_page = [item.tag for item in nodes_one_page]\n",
    "    \n",
    "    # Y a t il une modification à opérer\n",
    "    cdtb = \"note\" in tags_one_page\n",
    "    cdta = \"texte\" in tags_one_page\n",
    "    cdtfin = cdta and cdtb\n",
    "    \n",
    "    \n",
    "    \n",
    "    # condition\n",
    "    if cdtfin:\n",
    "\n",
    "        # parser des nodes\n",
    "        note_node = [item for item in nodes_one_page if item.tag == \"note\"][0]\n",
    "        texte_node = [item for item in nodes_one_page if item.tag == \"texte\"][0]\n",
    "        raw_text = list(note_node.itertext())\n",
    "        keys_text = [a.text for a in list(note_node)]\n",
    "        \n",
    "        \n",
    "        \n",
    "        # Récupération des notes\n",
    "        X = []\n",
    "        for idk,key in enumerate(keys_text):\n",
    "            for idx,item in enumerate(raw_text):\n",
    "                if key == item:\n",
    "                    X.append((key,idx))\n",
    "        X.append((None,len(raw_text)))\n",
    "\n",
    "        d = {}\n",
    "        for idx,item in enumerate(X):\n",
    "            if item[0] is not None:\n",
    "                start = item[-1]\n",
    "                end = X[idx+1][-1]\n",
    "                d[item[0]] = \" \".join(raw_text[start+1:end])\n",
    "                \n",
    "                \n",
    "        # modification                \n",
    "        for i in list(texte_node.iter()):\n",
    "            if i.tag == \"sup\":\n",
    "                if i.text in d:\n",
    "                    i.tag = \"note\"\n",
    "                    i.set(\"n\",i.text)\n",
    "                    thestring = \"<sup>\" + i.text + \"</sup>\" + d[i.text]\n",
    "                    i.append(ET.fromstring(thestring))\n",
    "                    \n",
    "            #W.append(ET.tostring(i))"
   ]
  },
  {
   "cell_type": "code",
   "execution_count": 439,
   "metadata": {},
   "outputs": [],
   "source": [
    "tree.write(\"essai2.xml\")"
   ]
  },
  {
   "cell_type": "code",
   "execution_count": 444,
   "metadata": {},
   "outputs": [
    {
     "data": {
      "text/plain": [
       "{'d': 'Le moineau du cap de Bonne-espérance. Brisson, Ornith. tome III, page 104, avec une figure, pl. V, fig. 3.'}"
      ]
     },
     "execution_count": 444,
     "metadata": {},
     "output_type": "execute_result"
    }
   ],
   "source": [
    "d"
   ]
  },
  {
   "cell_type": "code",
   "execution_count": null,
   "metadata": {},
   "outputs": [],
   "source": []
  },
  {
   "cell_type": "code",
   "execution_count": null,
   "metadata": {},
   "outputs": [],
   "source": []
  },
  {
   "cell_type": "code",
   "execution_count": null,
   "metadata": {},
   "outputs": [],
   "source": []
  },
  {
   "cell_type": "code",
   "execution_count": 506,
   "metadata": {},
   "outputs": [],
   "source": [
    "# Parsing d'une page\n",
    "pageid = 42\n",
    "one_page = pages[pageid]\n",
    "nodes_one_page = list(one_page)\n",
    "tags_one_page = [item.tag for item in nodes_one_page]"
   ]
  },
  {
   "cell_type": "code",
   "execution_count": 507,
   "metadata": {},
   "outputs": [],
   "source": [
    "# Y a t il une modification à opérer\n",
    "cdtb = \"note\" in tags_one_page\n",
    "cdta = \"texte\" in tags_one_page\n",
    "cdtfin = cdta and cdtb"
   ]
  },
  {
   "cell_type": "code",
   "execution_count": 508,
   "metadata": {},
   "outputs": [],
   "source": [
    "# condition\n",
    "if cdtfin:\n",
    "\n",
    "    # parser des nodes\n",
    "    note_node = [item for item in nodes_one_page if item.tag == \"note\"][0]\n",
    "    texte_node = [item for item in nodes_one_page if item.tag == \"texte\"][0]\n",
    "    raw_text = list(note_node.itertext())\n",
    "    keys_text = [a.text for a in list(note_node)]"
   ]
  },
  {
   "cell_type": "code",
   "execution_count": 509,
   "metadata": {},
   "outputs": [],
   "source": [
    "# Récupération des notes\n",
    "X = []\n",
    "for idk,key in enumerate(keys_text):\n",
    "    for idx,item in enumerate(raw_text):\n",
    "        if key == item:\n",
    "            X.append((key,idx))\n",
    "X.append((None,len(raw_text)))\n",
    "\n",
    "d = {}\n",
    "for idx,item in enumerate(X):\n",
    "    if item[0] is not None:\n",
    "        start = item[-1]\n",
    "        end = X[idx+1][-1]\n",
    "        d[item[0]] = \" \".join(raw_text[start+1:end])"
   ]
  },
  {
   "cell_type": "code",
   "execution_count": 510,
   "metadata": {},
   "outputs": [
    {
     "data": {
      "text/plain": [
       "{'r': 'Willughby dit, que quelquefois les corbeaux pondent encore plutôt en Angleterre, Ornithologie, page 83.',\n",
       " 's': 'Aristot. Hist. animal. lib. IX, cap. XXXI.',\n",
       " 't': 'Willughby, à l’endroit cité.',\n",
       " 'u': 'Aristot. Hist. animal. lib. VI, cap. VI.'}"
      ]
     },
     "execution_count": 510,
     "metadata": {},
     "output_type": "execute_result"
    }
   ],
   "source": [
    "d"
   ]
  },
  {
   "cell_type": "code",
   "execution_count": 512,
   "metadata": {},
   "outputs": [],
   "source": [
    "kk = list(texte_node.iter())"
   ]
  },
  {
   "cell_type": "code",
   "execution_count": 523,
   "metadata": {},
   "outputs": [],
   "source": [
    "tobemodifiy = kk[1]"
   ]
  },
  {
   "cell_type": "code",
   "execution_count": 526,
   "metadata": {},
   "outputs": [],
   "source": [
    "tobemodifiy.tag = \"note\""
   ]
  },
  {
   "cell_type": "code",
   "execution_count": 530,
   "metadata": {},
   "outputs": [],
   "source": [
    "tobemodifiy.append(ET.fromstring(\"<sup>q</sup>\"))"
   ]
  },
  {
   "cell_type": "code",
   "execution_count": 531,
   "metadata": {},
   "outputs": [
    {
     "name": "stdout",
     "output_type": "stream",
     "text": [
      "b'<note>q<sup>q</sup></note>, son accouplement doit probablement avoir une certaine dur&#233;e.\\nLa femelle se distingue du m&#226;le, selon Barrere, en ce qu&#8217;elle est d&#8217;un noir moins d&#233;cid&#233; et qu&#8217;elle a le bec plus foible ; et en effet, j&#8217;ai bien observ&#233; dans certains individus des becs plus forts et plus convexes que dans d&#8217;autres, et diff&#233;rentes teintes de noir et m&#234;me de brun dans le plumage ; mais ceux qui avoient le bec le plus fort &#233;toient d&#8217;un noir moins d&#233;cid&#233;, soit que cette couleur f&#251;t naturelle, soit qu&#8217;elle f&#251;t alt&#233;r&#233;e par le temps et par les pr&#233;cautions qu&#8217;on a coutume de prendre pour la conservation des oiseaux dess&#233;ch&#233;s. Cette femelle pond aux environs du mois de mars'\n"
     ]
    }
   ],
   "source": [
    "print(ET.tostring(tobemodifiy))"
   ]
  },
  {
   "cell_type": "code",
   "execution_count": null,
   "metadata": {},
   "outputs": [],
   "source": []
  },
  {
   "cell_type": "code",
   "execution_count": null,
   "metadata": {},
   "outputs": [],
   "source": []
  },
  {
   "cell_type": "code",
   "execution_count": null,
   "metadata": {},
   "outputs": [],
   "source": []
  },
  {
   "cell_type": "code",
   "execution_count": 500,
   "metadata": {},
   "outputs": [
    {
     "name": "stdout",
     "output_type": "stream",
     "text": [
      "q\n",
      "r\n",
      "s\n",
      "t\n",
      "u\n"
     ]
    }
   ],
   "source": [
    "for i in list(texte_node.iter()):\n",
    "    if i.tag == \"sup\":\n",
    "        print(i.text)\n",
    "        if i.text in d:\n",
    "            \n",
    "            copytexted = i.text\n",
    "            #i.text = \"salut\"\n",
    "            i.tag = \"note\"\n",
    "            i.set(\"n\",i.text)\n",
    "            thestring = \"<sup>\" + i.text + \"</sup>\"\n",
    "            i.append(ET.fromstring(thestring))\n",
    "            #i.text = d[i.text]"
   ]
  },
  {
   "cell_type": "code",
   "execution_count": 501,
   "metadata": {},
   "outputs": [
    {
     "data": {
      "text/plain": [
       "b'<note n=\"u\">u<sup>u</sup></note>, et pendant ce temps le m&#226;le a soin de pourvoir &#224; sa nourriture ; il y pourvoit m&#234;me largement, car les gens de la'"
      ]
     },
     "execution_count": 501,
     "metadata": {},
     "output_type": "execute_result"
    }
   ],
   "source": [
    "ET.tostring(i)"
   ]
  },
  {
   "cell_type": "code",
   "execution_count": null,
   "metadata": {},
   "outputs": [],
   "source": []
  },
  {
   "cell_type": "code",
   "execution_count": null,
   "metadata": {},
   "outputs": [],
   "source": []
  },
  {
   "cell_type": "code",
   "execution_count": null,
   "metadata": {},
   "outputs": [],
   "source": []
  },
  {
   "cell_type": "code",
   "execution_count": 409,
   "metadata": {},
   "outputs": [],
   "source": [
    "tree.write(\"essai.xml\")"
   ]
  },
  {
   "cell_type": "code",
   "execution_count": null,
   "metadata": {},
   "outputs": [],
   "source": [
    "<sup>26</sup>\n",
    "<note n=\"26\"><sup>26</sup>[note originale] Voyez les preuves, art. 9.</note>\n",
    "\n",
    "1. changer le tag, en \"note\"\n",
    "2. ajouter attribut \"n=\" avec comme valeur du text \".text\"\n",
    "3. append un tag sup avec comme valeur "
   ]
  },
  {
   "cell_type": "code",
   "execution_count": null,
   "metadata": {},
   "outputs": [],
   "source": []
  },
  {
   "cell_type": "code",
   "execution_count": null,
   "metadata": {},
   "outputs": [],
   "source": []
  },
  {
   "cell_type": "code",
   "execution_count": null,
   "metadata": {},
   "outputs": [],
   "source": []
  }
 ],
 "metadata": {
  "kernelspec": {
   "display_name": "Python 3",
   "language": "python",
   "name": "python3"
  },
  "language_info": {
   "codemirror_mode": {
    "name": "ipython",
    "version": 3
   },
   "file_extension": ".py",
   "mimetype": "text/x-python",
   "name": "python",
   "nbconvert_exporter": "python",
   "pygments_lexer": "ipython3",
   "version": "3.7.3"
  }
 },
 "nbformat": 4,
 "nbformat_minor": 2
}
