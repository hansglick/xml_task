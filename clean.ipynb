{
 "cells": [
  {
   "cell_type": "code",
   "execution_count": null,
   "metadata": {},
   "outputs": [],
   "source": [
    "# Chargement des librairies\n",
    "\n",
    "import xml.etree.ElementTree as ET"
   ]
  },
  {
   "cell_type": "code",
   "execution_count": null,
   "metadata": {},
   "outputs": [],
   "source": [
    "# Le fichier d'entrée et de sortie\n",
    "\n",
    "xml_filename = 'file.xml'\n",
    "xml_finename_saved = \"corrected_file.xml\""
   ]
  },
  {
   "cell_type": "code",
   "execution_count": null,
   "metadata": {},
   "outputs": [],
   "source": [
    "# Parsing du document\n",
    "\n",
    "tree = ET.parse(xml_filename)\n",
    "root = tree.getroot()\n",
    "pages = root[0][0]"
   ]
  },
  {
   "cell_type": "code",
   "execution_count": null,
   "metadata": {},
   "outputs": [],
   "source": [
    "# Boucle sur toutes les pages du document\n",
    "\n",
    "for idpage,one_page in enumerate(pages):\n",
    "    \n",
    "    # Extraction des noeuds de la page\n",
    "    nodes_one_page = list(one_page)\n",
    "    tags_one_page = [item.tag for item in nodes_one_page]\n",
    "    \n",
    "    # Modification à apporter?\n",
    "    cdtb = \"note\" in tags_one_page\n",
    "    cdta = \"texte\" in tags_one_page\n",
    "    cdtfin = cdta and cdtb\n",
    "    \n",
    "    # Si modification à apporter, alors ...\n",
    "    if cdtfin:\n",
    "\n",
    "        \n",
    "        \n",
    "        \n",
    "        \n",
    "        # * * * EXTRACTION DES INFORMATIONS PERTINENTES DE LA PAGE * * *\n",
    "        \n",
    "        \n",
    "        \n",
    "        # Informations des nodes\n",
    "        note_node = [item for item in nodes_one_page if item.tag == \"note\"][0]\n",
    "        texte_node = [item for item in nodes_one_page if item.tag == \"texte\"][0]\n",
    "        raw_text = list(note_node.itertext())\n",
    "        keys_text = [a.text for a in list(note_node)]\n",
    "        \n",
    "        # Extraction et structuration des informations du noeud 'note'\n",
    "        X = []\n",
    "        for idk,key in enumerate(keys_text):\n",
    "            for idx,item in enumerate(raw_text):\n",
    "                if key == item:\n",
    "                    X.append((key,idx))\n",
    "        X.append((None,len(raw_text)))\n",
    "        d = {}\n",
    "        for idx,item in enumerate(X):\n",
    "            if item[0] is not None:\n",
    "                start = item[-1]\n",
    "                end = X[idx+1][-1]\n",
    "                d[item[0]] = \" \".join(raw_text[start+1:end])\n",
    "                \n",
    "                \n",
    "                \n",
    "                \n",
    "                \n",
    "        # * * * MODIFICATION DU FICHIER XML * * * \n",
    "        \n",
    "        \n",
    "        \n",
    "        # Modification du noeud 'texte'                \n",
    "        for i in list(texte_node.iter()):\n",
    "            if i.tag == \"sup\":\n",
    "                if i.text in d:\n",
    "                    i.tag = \"note\"\n",
    "                    i.set(\"n\",i.text)\n",
    "                    subnode = ET.fromstring(\"<sup>\" + i.text + \"</sup>\")\n",
    "                    subnode.tail = d[i.text]\n",
    "                    i.append(subnode)\n",
    "                    i.text = \"\"\n",
    "\n",
    "                    \n",
    "        # Suppression du noeud 'note'\n",
    "        for nodetoremove in one_page.findall('note'):\n",
    "            one_page.remove(nodetoremove)"
   ]
  },
  {
   "cell_type": "code",
   "execution_count": null,
   "metadata": {},
   "outputs": [],
   "source": [
    "# Ecriture du document xml modifié\n",
    "\n",
    "tree.write(xml_finename_saved)"
   ]
  }
 ],
 "metadata": {
  "kernelspec": {
   "display_name": "Python 3",
   "language": "python",
   "name": "python3"
  },
  "language_info": {
   "codemirror_mode": {
    "name": "ipython",
    "version": 3
   },
   "file_extension": ".py",
   "mimetype": "text/x-python",
   "name": "python",
   "nbconvert_exporter": "python",
   "pygments_lexer": "ipython3",
   "version": "3.7.6"
  }
 },
 "nbformat": 4,
 "nbformat_minor": 4
}
